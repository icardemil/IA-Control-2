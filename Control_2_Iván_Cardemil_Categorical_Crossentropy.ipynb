{
  "nbformat": 4,
  "nbformat_minor": 0,
  "metadata": {
    "colab": {
      "name": "Control 2 - Iván Cardemil - Categorical Crossentropy.ipynb",
      "provenance": [],
      "collapsed_sections": [],
      "authorship_tag": "ABX9TyPiav+0oDz3L5+e6GckFzpe",
      "include_colab_link": true
    },
    "kernelspec": {
      "name": "python3",
      "display_name": "Python 3"
    },
    "language_info": {
      "name": "python"
    }
  },
  "cells": [
    {
      "cell_type": "markdown",
      "metadata": {
        "id": "view-in-github",
        "colab_type": "text"
      },
      "source": [
        "<a href=\"https://colab.research.google.com/github/icardemil64/IA-Control-2/blob/main/Control_2_Iv%C3%A1n_Cardemil_Categorical_Crossentropy.ipynb\" target=\"_parent\"><img src=\"https://colab.research.google.com/assets/colab-badge.svg\" alt=\"Open In Colab\"/></a>"
      ]
    },
    {
      "cell_type": "markdown",
      "metadata": {
        "id": "gzi-3Ec834iv"
      },
      "source": [
        "#Importar librerías"
      ]
    },
    {
      "cell_type": "code",
      "metadata": {
        "colab": {
          "base_uri": "https://localhost:8080/"
        },
        "id": "8KZVub8o3v_J",
        "outputId": "77477b3a-75fd-4512-8499-3d70664e5799"
      },
      "source": [
        "import keras\n",
        "import numpy as np\n",
        "import pandas as pd\n",
        "import tensorflow as tf\n",
        "print(\"Tensorflow: \" + tf.__version__)"
      ],
      "execution_count": 83,
      "outputs": [
        {
          "output_type": "stream",
          "text": [
            "Tensorflow: 2.5.0\n"
          ],
          "name": "stdout"
        }
      ]
    },
    {
      "cell_type": "markdown",
      "metadata": {
        "id": "KXQbf5fe4EZL"
      },
      "source": [
        "#Importar datos"
      ]
    },
    {
      "cell_type": "code",
      "metadata": {
        "id": "ZIyfhuTR4F08"
      },
      "source": [
        "from keras.datasets import reuters"
      ],
      "execution_count": 3,
      "outputs": []
    },
    {
      "cell_type": "code",
      "metadata": {
        "colab": {
          "base_uri": "https://localhost:8080/"
        },
        "id": "MS74okQF4tIZ",
        "outputId": "6926e2ef-0429-4e41-fb0f-5cb6c261cb16"
      },
      "source": [
        "(train_data,train_labels),(test_data,test_labels) = reuters.load_data(num_words=10000)"
      ],
      "execution_count": 4,
      "outputs": [
        {
          "output_type": "stream",
          "text": [
            "Downloading data from https://storage.googleapis.com/tensorflow/tf-keras-datasets/reuters.npz\n",
            "2113536/2110848 [==============================] - 0s 0us/step\n",
            "2121728/2110848 [==============================] - 0s 0us/step\n"
          ],
          "name": "stdout"
        },
        {
          "output_type": "stream",
          "text": [
            "/usr/local/lib/python3.7/dist-packages/keras/datasets/reuters.py:143: VisibleDeprecationWarning: Creating an ndarray from ragged nested sequences (which is a list-or-tuple of lists-or-tuples-or ndarrays with different lengths or shapes) is deprecated. If you meant to do this, you must specify 'dtype=object' when creating the ndarray\n",
            "  x_train, y_train = np.array(xs[:idx]), np.array(labels[:idx])\n",
            "/usr/local/lib/python3.7/dist-packages/keras/datasets/reuters.py:144: VisibleDeprecationWarning: Creating an ndarray from ragged nested sequences (which is a list-or-tuple of lists-or-tuples-or ndarrays with different lengths or shapes) is deprecated. If you meant to do this, you must specify 'dtype=object' when creating the ndarray\n",
            "  x_test, y_test = np.array(xs[idx:]), np.array(labels[idx:])\n"
          ],
          "name": "stderr"
        }
      ]
    },
    {
      "cell_type": "code",
      "metadata": {
        "id": "JmY4Cbz5e5al"
      },
      "source": [
        "topicos = ['cocoa','grain','veg-oil','earn','acq','wheat','copper','housing','money-supply',\n",
        " 'coffee','sugar','trade','reserves','ship','cotton','carcass','crude','nat-gas',\n",
        " 'cpi','money-fx','interest','gnp','meal-feed','alum','oilseed','gold','tin',\n",
        " 'strategic-metal','livestock','retail','ipi','iron-steel','rubber','heat','jobs',\n",
        " 'lei','bop','zinc','orange','pet-chem','dlr','gas','silver','wpi','hog','lead']"
      ],
      "execution_count": 169,
      "outputs": []
    },
    {
      "cell_type": "markdown",
      "metadata": {
        "id": "FlQW_GAl5Jij"
      },
      "source": [
        "##Comprobando tamaño del dataset"
      ]
    },
    {
      "cell_type": "code",
      "metadata": {
        "colab": {
          "base_uri": "https://localhost:8080/"
        },
        "id": "5_A9fTCF42ye",
        "outputId": "0df17b82-7450-4e02-c360-37b11fbd7db7"
      },
      "source": [
        "print(\"Datos de entrenamiento \", train_data.shape)\n",
        "print(\"Datos de prueba \", test_data.shape)"
      ],
      "execution_count": 7,
      "outputs": [
        {
          "output_type": "stream",
          "text": [
            "Datos de entrenamiento  (8982,)\n",
            "Datos de prueba  (2246,)\n"
          ],
          "name": "stdout"
        }
      ]
    },
    {
      "cell_type": "markdown",
      "metadata": {
        "id": "YsoxBEZU5M1Q"
      },
      "source": [
        "##Buscar las noticias de Chile"
      ]
    },
    {
      "cell_type": "code",
      "metadata": {
        "id": "MInNJhTx5Znp"
      },
      "source": [
        "word_index = reuters.get_word_index()"
      ],
      "execution_count": 45,
      "outputs": []
    },
    {
      "cell_type": "code",
      "metadata": {
        "colab": {
          "base_uri": "https://localhost:8080/"
        },
        "id": "XGxmwRrK8FuR",
        "outputId": "35c2c31b-f288-4e79-86a6-949b4e7e5607"
      },
      "source": [
        "chile_key = word_index.get('chile')\n",
        "chile_key"
      ],
      "execution_count": 86,
      "outputs": [
        {
          "output_type": "execute_result",
          "data": {
            "text/plain": [
              "4455"
            ]
          },
          "metadata": {
            "tags": []
          },
          "execution_count": 86
        }
      ]
    },
    {
      "cell_type": "markdown",
      "metadata": {
        "id": "JXvBcANABcBv"
      },
      "source": [
        "###Noticias de Chile en entramiento"
      ]
    },
    {
      "cell_type": "code",
      "metadata": {
        "id": "RuPvd3faABfY"
      },
      "source": [
        "noticias_chile_train = []\n",
        "for i in range(8982):\n",
        "  if chile_key in train_data[i]:\n",
        "    noticias_chile_train.append(i)"
      ],
      "execution_count": 89,
      "outputs": []
    },
    {
      "cell_type": "code",
      "metadata": {
        "colab": {
          "base_uri": "https://localhost:8080/"
        },
        "id": "v4vtKj3TA7S6",
        "outputId": "61bae849-c1b2-41b2-a7fc-17e02c38ba19"
      },
      "source": [
        "noticias_chile_train"
      ],
      "execution_count": 90,
      "outputs": [
        {
          "output_type": "execute_result",
          "data": {
            "text/plain": [
              "[1153, 2715, 3926, 4279, 4491, 4724, 4755, 5766, 5827, 7057, 7791, 8885]"
            ]
          },
          "metadata": {
            "tags": []
          },
          "execution_count": 90
        }
      ]
    },
    {
      "cell_type": "markdown",
      "metadata": {
        "id": "c00FWAcVBezX"
      },
      "source": [
        "###Noticias de Chile en prueba"
      ]
    },
    {
      "cell_type": "code",
      "metadata": {
        "id": "6HRg1Nx0Bhaw"
      },
      "source": [
        "noticias_chile_test = []\n",
        "for i in range(2246):\n",
        "  if chile_key in test_data[i]:\n",
        "    noticias_chile_test.append(i)"
      ],
      "execution_count": 93,
      "outputs": []
    },
    {
      "cell_type": "code",
      "metadata": {
        "colab": {
          "base_uri": "https://localhost:8080/"
        },
        "id": "W-OjWt9MBuK7",
        "outputId": "96c64258-2b6c-4546-b870-253427ee2c5e"
      },
      "source": [
        "noticias_chile_test"
      ],
      "execution_count": 94,
      "outputs": [
        {
          "output_type": "execute_result",
          "data": {
            "text/plain": [
              "[1068, 1272, 1805]"
            ]
          },
          "metadata": {
            "tags": []
          },
          "execution_count": 94
        }
      ]
    },
    {
      "cell_type": "markdown",
      "metadata": {
        "id": "4BmEBKTqByGY"
      },
      "source": [
        "###Verificación de noticias"
      ]
    },
    {
      "cell_type": "code",
      "metadata": {
        "id": "jOXG1UBF59mh"
      },
      "source": [
        "reverse_word_index = dict([(value,key) for (key,value) in word_index.items()])"
      ],
      "execution_count": 51,
      "outputs": []
    },
    {
      "cell_type": "code",
      "metadata": {
        "id": "vmw6Dt1WADW4"
      },
      "source": [
        "reverse_word_index"
      ],
      "execution_count": null,
      "outputs": []
    },
    {
      "cell_type": "code",
      "metadata": {
        "id": "l8moDkqr6EgK"
      },
      "source": [
        "def decodificar_comentario(data):\n",
        "  decode_review = ' '.join(\n",
        "      [reverse_word_index.get(i - 3,'?') for i in data]\n",
        "  )\n",
        "  return decode_review"
      ],
      "execution_count": 158,
      "outputs": []
    },
    {
      "cell_type": "code",
      "metadata": {
        "colab": {
          "base_uri": "https://localhost:8080/",
          "height": 102
        },
        "id": "KwlCL_cKZ9VT",
        "outputId": "e085c99b-c8af-4fae-c041-6db8950294b2"
      },
      "source": [
        "decodificar_comentario(train_data[1153])"
      ],
      "execution_count": 159,
      "outputs": [
        {
          "output_type": "execute_result",
          "data": {
            "application/vnd.google.colaboratory.intrinsic+json": {
              "type": "string"
            },
            "text/plain": [
              "\"? u s mine production of silver rose to 2 295 230 troy ounces in december from 2 181 082 in november the interior department's bureau of mines said u s imports of silver in december were 8 458 000 ounces vs 19 950 000 in november and 8 840 000 in december 1985 silver exports totaled 1 549 000 ounces in december vs 2 346 000 in november and 1 504 000 ounces in december 1985 silver mining production in the 12 month period jan dec 1986 totaled 31 720 769 ounces vs 39 357 197 ounces produced over the same period in 1985 imports of silver in jan dec 1986 totaled 144 890 000 ounces vs 152 601 000 ounces in jan dec 1985 while silver exports stood at 25 114 000 ounces and 24 756 000 ounces over the respective periods the bureau said reuter 3\""
            ]
          },
          "metadata": {
            "tags": []
          },
          "execution_count": 159
        }
      ]
    },
    {
      "cell_type": "code",
      "metadata": {
        "colab": {
          "base_uri": "https://localhost:8080/"
        },
        "id": "hsx6Tyy9CmKZ",
        "outputId": "9f2f60aa-b7c6-486c-8508-98c0bdc5a1af"
      },
      "source": [
        "train_labels[1153]"
      ],
      "execution_count": 160,
      "outputs": [
        {
          "output_type": "execute_result",
          "data": {
            "text/plain": [
              "42"
            ]
          },
          "metadata": {
            "tags": []
          },
          "execution_count": 160
        }
      ]
    },
    {
      "cell_type": "markdown",
      "metadata": {
        "id": "m0SEikSMCuMp"
      },
      "source": [
        "#Preprocesamiento de datos"
      ]
    },
    {
      "cell_type": "markdown",
      "metadata": {
        "id": "RXq4oK33D6kH"
      },
      "source": [
        "##Vectorización de comentarios"
      ]
    },
    {
      "cell_type": "code",
      "metadata": {
        "id": "-N2YFPS1Cwvp"
      },
      "source": [
        "def vectorize(seq, dim = 10000):\n",
        "  results = np.zeros((len(seq), dim))\n",
        "  for i, seq in enumerate(seq):\n",
        "    results[i,seq] = 1\n",
        "  return results"
      ],
      "execution_count": 72,
      "outputs": []
    },
    {
      "cell_type": "code",
      "metadata": {
        "id": "ta0AFXgeC5k5"
      },
      "source": [
        "x_train = vectorize(train_data)\n",
        "x_test = vectorize(test_data)"
      ],
      "execution_count": 74,
      "outputs": []
    },
    {
      "cell_type": "markdown",
      "metadata": {
        "id": "AX5bpP4bD9Mu"
      },
      "source": [
        "##One hot encoding de los labels"
      ]
    },
    {
      "cell_type": "code",
      "metadata": {
        "id": "S1zI5F2JEBfy"
      },
      "source": [
        "from tensorflow.keras.utils import to_categorical"
      ],
      "execution_count": 85,
      "outputs": []
    },
    {
      "cell_type": "code",
      "metadata": {
        "id": "HGJwMOrODEuf"
      },
      "source": [
        "y_train = to_categorical(train_labels,num_classes=46)\n",
        "y_test = to_categorical(test_labels,num_classes=46)"
      ],
      "execution_count": 154,
      "outputs": []
    },
    {
      "cell_type": "code",
      "metadata": {
        "colab": {
          "base_uri": "https://localhost:8080/"
        },
        "id": "K9sfYlNlDHWH",
        "outputId": "9a841b6d-66b2-4675-d442-713c3330873d"
      },
      "source": [
        "y_train[1068]"
      ],
      "execution_count": 155,
      "outputs": [
        {
          "output_type": "execute_result",
          "data": {
            "text/plain": [
              "array([0., 0., 0., 1., 0., 0., 0., 0., 0., 0., 0., 0., 0., 0., 0., 0., 0.,\n",
              "       0., 0., 0., 0., 0., 0., 0., 0., 0., 0., 0., 0., 0., 0., 0., 0., 0.,\n",
              "       0., 0., 0., 0., 0., 0., 0., 0., 0., 0., 0., 0.], dtype=float32)"
            ]
          },
          "metadata": {
            "tags": []
          },
          "execution_count": 155
        }
      ]
    },
    {
      "cell_type": "markdown",
      "metadata": {
        "id": "ZYTJTuCAGpw0"
      },
      "source": [
        "##Separa datos"
      ]
    },
    {
      "cell_type": "code",
      "metadata": {
        "id": "SG6hDKWlGrC3"
      },
      "source": [
        "x_val = x_train[:1000]\n",
        "x_trn = x_train[1000:]\n",
        "y_val = y_train[:1000]\n",
        "y_trn = y_train[1000:]"
      ],
      "execution_count": 102,
      "outputs": []
    },
    {
      "cell_type": "markdown",
      "metadata": {
        "id": "TJs67h-lGZMA"
      },
      "source": [
        "#Crear modelo"
      ]
    },
    {
      "cell_type": "code",
      "metadata": {
        "id": "8ITuuWO7GeC7"
      },
      "source": [
        "from keras.models import Sequential\n",
        "from keras.layers import Dense, Dropout"
      ],
      "execution_count": 112,
      "outputs": []
    },
    {
      "cell_type": "markdown",
      "metadata": {
        "id": "VHzI7xUgIFx4"
      },
      "source": [
        "Red con 3 capas de 128 neuronas cada una y una última capa de salida con 46 neuronas para clasificar en los tópicos, utilizando la función de activación softmax."
      ]
    },
    {
      "cell_type": "code",
      "metadata": {
        "id": "xdEmgrGWHcJM"
      },
      "source": [
        "model = Sequential()\n",
        "model.add(Dense(128, activation='relu', input_shape=(10000,)))\n",
        "model.add(Dense(128, activation='relu'))\n",
        "model.add(Dense(128, activation='relu'))\n",
        "model.add(Dense(46,activation='softmax'))\n",
        "model.compile(optimizer='adam', loss='categorical_crossentropy', metrics=['accuracy'])"
      ],
      "execution_count": 106,
      "outputs": []
    },
    {
      "cell_type": "code",
      "metadata": {
        "colab": {
          "base_uri": "https://localhost:8080/"
        },
        "id": "P_72nchCIwax",
        "outputId": "36a7da17-abe3-4a4a-bf10-c7d0d86c99a1"
      },
      "source": [
        "model.summary()"
      ],
      "execution_count": 107,
      "outputs": [
        {
          "output_type": "stream",
          "text": [
            "Model: \"sequential_1\"\n",
            "_________________________________________________________________\n",
            "Layer (type)                 Output Shape              Param #   \n",
            "=================================================================\n",
            "dense_4 (Dense)              (None, 128)               1280128   \n",
            "_________________________________________________________________\n",
            "dense_5 (Dense)              (None, 128)               16512     \n",
            "_________________________________________________________________\n",
            "dense_6 (Dense)              (None, 128)               16512     \n",
            "_________________________________________________________________\n",
            "dense_7 (Dense)              (None, 46)                5934      \n",
            "=================================================================\n",
            "Total params: 1,319,086\n",
            "Trainable params: 1,319,086\n",
            "Non-trainable params: 0\n",
            "_________________________________________________________________\n"
          ],
          "name": "stdout"
        }
      ]
    },
    {
      "cell_type": "markdown",
      "metadata": {
        "id": "v4pzAw1ALLHw"
      },
      "source": [
        "##Ejecutar el modelo"
      ]
    },
    {
      "cell_type": "code",
      "metadata": {
        "colab": {
          "base_uri": "https://localhost:8080/"
        },
        "id": "hMbcLOveJNQC",
        "outputId": "f6ed5bf8-038e-4fef-eddb-b7c8805a9c87"
      },
      "source": [
        "history = model.fit(x_trn,y_trn,epochs=10,batch_size=500,validation_data=(x_val,y_val))"
      ],
      "execution_count": 108,
      "outputs": [
        {
          "output_type": "stream",
          "text": [
            "Epoch 1/10\n",
            "16/16 [==============================] - 15s 104ms/step - loss: 3.3579 - accuracy: 0.4086 - val_loss: 1.8605 - val_accuracy: 0.5420\n",
            "Epoch 2/10\n",
            "16/16 [==============================] - 1s 70ms/step - loss: 1.6769 - accuracy: 0.6153 - val_loss: 1.3566 - val_accuracy: 0.6930\n",
            "Epoch 3/10\n",
            "16/16 [==============================] - 1s 70ms/step - loss: 1.1569 - accuracy: 0.7323 - val_loss: 1.1218 - val_accuracy: 0.7450\n",
            "Epoch 4/10\n",
            "16/16 [==============================] - 1s 72ms/step - loss: 0.8280 - accuracy: 0.8108 - val_loss: 1.0252 - val_accuracy: 0.7840\n",
            "Epoch 5/10\n",
            "16/16 [==============================] - 1s 71ms/step - loss: 0.5824 - accuracy: 0.8701 - val_loss: 0.9531 - val_accuracy: 0.8150\n",
            "Epoch 6/10\n",
            "16/16 [==============================] - 1s 70ms/step - loss: 0.3722 - accuracy: 0.9200 - val_loss: 0.9462 - val_accuracy: 0.8170\n",
            "Epoch 7/10\n",
            "16/16 [==============================] - 1s 70ms/step - loss: 0.2495 - accuracy: 0.9470 - val_loss: 0.9660 - val_accuracy: 0.8140\n",
            "Epoch 8/10\n",
            "16/16 [==============================] - 1s 70ms/step - loss: 0.1771 - accuracy: 0.9549 - val_loss: 0.9983 - val_accuracy: 0.8180\n",
            "Epoch 9/10\n",
            "16/16 [==============================] - 1s 70ms/step - loss: 0.1554 - accuracy: 0.9596 - val_loss: 1.0044 - val_accuracy: 0.8080\n",
            "Epoch 10/10\n",
            "16/16 [==============================] - 1s 70ms/step - loss: 0.1253 - accuracy: 0.9633 - val_loss: 1.0359 - val_accuracy: 0.8130\n"
          ],
          "name": "stdout"
        }
      ]
    },
    {
      "cell_type": "code",
      "metadata": {
        "colab": {
          "base_uri": "https://localhost:8080/"
        },
        "id": "TXRCFhonLF3k",
        "outputId": "964a05ef-1b6c-4308-eacc-addc93cb1ce1"
      },
      "source": [
        "result = model.evaluate(x_test,y_test)"
      ],
      "execution_count": 109,
      "outputs": [
        {
          "output_type": "stream",
          "text": [
            "71/71 [==============================] - 1s 4ms/step - loss: 1.1568 - accuracy: 0.7881\n"
          ],
          "name": "stdout"
        }
      ]
    },
    {
      "cell_type": "markdown",
      "metadata": {
        "id": "J6v_axdOLhp4"
      },
      "source": [
        "##Verificar overfitting"
      ]
    },
    {
      "cell_type": "code",
      "metadata": {
        "colab": {
          "base_uri": "https://localhost:8080/"
        },
        "id": "fBZhhrUTLJdk",
        "outputId": "061c51da-30dc-46bb-827a-43ebddf254bf"
      },
      "source": [
        "history_dict = history.history\n",
        "history_dict.keys()"
      ],
      "execution_count": 110,
      "outputs": [
        {
          "output_type": "execute_result",
          "data": {
            "text/plain": [
              "dict_keys(['loss', 'accuracy', 'val_loss', 'val_accuracy'])"
            ]
          },
          "metadata": {
            "tags": []
          },
          "execution_count": 110
        }
      ]
    },
    {
      "cell_type": "code",
      "metadata": {
        "colab": {
          "base_uri": "https://localhost:8080/",
          "height": 295
        },
        "id": "ynThqchAQm7D",
        "outputId": "6d524cc6-8ae6-4c21-c90a-e046343a6b4c"
      },
      "source": [
        "import matplotlib.pyplot as plt\n",
        "\n",
        "plt.clf()\n",
        "history_dict = history.history\n",
        "loss_values = history_dict['loss']\n",
        "val_loss_values = history_dict['val_loss']\n",
        "epochs = range(1, (len(history_dict['loss']) + 1))\n",
        "plt.plot(epochs, loss_values, 'bo', label='Training loss')\n",
        "plt.plot(epochs, val_loss_values, 'b', label='Validation loss')\n",
        "plt.title('Training and validation loss')\n",
        "plt.xlabel('Epochs')\n",
        "plt.ylabel('Loss')\n",
        "plt.legend()\n",
        "plt.show()"
      ],
      "execution_count": 147,
      "outputs": [
        {
          "output_type": "display_data",
          "data": {
            "image/png": "[encoded data removed]",
            "text/plain": [
              "<Figure size 432x288 with 1 Axes>"
            ]
          },
          "metadata": {
            "tags": [],
            "needs_background": "light"
          }
        }
      ]
    },
    {
      "cell_type": "code",
      "metadata": {
        "colab": {
          "base_uri": "https://localhost:8080/",
          "height": 295
        },
        "id": "OVB-r9_YLU6a",
        "outputId": "5049f37c-3631-413f-e58b-a1beebf471b6"
      },
      "source": [
        "plt.clf()\n",
        "acc_values = history_dict['accuracy']\n",
        "val_acc_values = history_dict['val_accuracy']\n",
        "epochs = range(1, (len(history_dict['accuracy']) + 1))\n",
        "plt.plot(epochs, acc_values, 'bo', label='Training acc')\n",
        "plt.plot(epochs, val_acc_values, 'b', label='Validation acc')\n",
        "plt.title('Training and validation accuracy')\n",
        "plt.xlabel('Epochs')\n",
        "plt.ylabel('Accuracy')\n",
        "plt.legend()\n",
        "plt.show()"
      ],
      "execution_count": 148,
      "outputs": [
        {
          "output_type": "display_data",
          "data": {
            "image/png": "[encoded data removed]",
            "text/plain": [
              "<Figure size 432x288 with 1 Axes>"
            ]
          },
          "metadata": {
            "tags": [],
            "needs_background": "light"
          }
        }
      ]
    },
    {
      "cell_type": "markdown",
      "metadata": {
        "id": "OXpZzK5JMDtV"
      },
      "source": [
        "##Corregir overfitting"
      ]
    },
    {
      "cell_type": "markdown",
      "metadata": {
        "id": "GSTfZRCJMVvP"
      },
      "source": [
        "Para mejor el desempeño del modelo se realizarán dos acciones:\n",
        "\n",
        "*   Utilizar la técnia del early stopping colocando el foco en los valores de precisión.\n",
        "\n"
      ]
    },
    {
      "cell_type": "code",
      "metadata": {
        "id": "EaJ2ufKKOR3T"
      },
      "source": [
        "from tensorflow.keras.callbacks import EarlyStopping "
      ],
      "execution_count": 120,
      "outputs": []
    },
    {
      "cell_type": "code",
      "metadata": {
        "id": "wXeE4NmuOSi9"
      },
      "source": [
        "es = EarlyStopping(monitor='val_accuracy', mode='max', patience= 2, verbose= 1)"
      ],
      "execution_count": 138,
      "outputs": []
    },
    {
      "cell_type": "code",
      "metadata": {
        "id": "sf4MgHtNMDBL"
      },
      "source": [
        "model_fix = Sequential()\n",
        "model_fix.add(Dense(128, activation='relu', input_shape=(10000,)))\n",
        "model_fix.add(Dense(128, activation='relu'))\n",
        "model_fix.add(Dense(128, activation='relu'))\n",
        "model_fix.add(Dense(46,activation='softmax'))\n",
        "model_fix.compile(optimizer='adam', loss='categorical_crossentropy', metrics=['accuracy'])"
      ],
      "execution_count": 139,
      "outputs": []
    },
    {
      "cell_type": "code",
      "metadata": {
        "colab": {
          "base_uri": "https://localhost:8080/"
        },
        "id": "MLQAiThENRGT",
        "outputId": "1e5412eb-48e7-4aba-f2b9-f8c4c97307e9"
      },
      "source": [
        "model_fix.summary()"
      ],
      "execution_count": 140,
      "outputs": [
        {
          "output_type": "stream",
          "text": [
            "Model: \"sequential_9\"\n",
            "_________________________________________________________________\n",
            "Layer (type)                 Output Shape              Param #   \n",
            "=================================================================\n",
            "dense_36 (Dense)             (None, 128)               1280128   \n",
            "_________________________________________________________________\n",
            "dense_37 (Dense)             (None, 128)               16512     \n",
            "_________________________________________________________________\n",
            "dense_38 (Dense)             (None, 128)               16512     \n",
            "_________________________________________________________________\n",
            "dense_39 (Dense)             (None, 46)                5934      \n",
            "=================================================================\n",
            "Total params: 1,319,086\n",
            "Trainable params: 1,319,086\n",
            "Non-trainable params: 0\n",
            "_________________________________________________________________\n"
          ],
          "name": "stdout"
        }
      ]
    },
    {
      "cell_type": "markdown",
      "metadata": {
        "id": "DQJX4zhUNV_q"
      },
      "source": [
        "##Ejecutar el modelo corregido"
      ]
    },
    {
      "cell_type": "code",
      "metadata": {
        "colab": {
          "base_uri": "https://localhost:8080/"
        },
        "id": "I40k5QBDNUOz",
        "outputId": "040b7ba0-80b4-4dd3-f9e1-a4db707a990a"
      },
      "source": [
        "history_fix = model_fix.fit(x_trn,y_trn,epochs=10,batch_size=500,validation_data=(x_val,y_val),callbacks=[es])"
      ],
      "execution_count": 141,
      "outputs": [
        {
          "output_type": "stream",
          "text": [
            "Epoch 1/10\n",
            "16/16 [==============================] - 2s 90ms/step - loss: 3.4015 - accuracy: 0.3975 - val_loss: 1.9145 - val_accuracy: 0.5440\n",
            "Epoch 2/10\n",
            "16/16 [==============================] - 1s 69ms/step - loss: 1.6970 - accuracy: 0.6216 - val_loss: 1.3983 - val_accuracy: 0.6910\n",
            "Epoch 3/10\n",
            "16/16 [==============================] - 1s 69ms/step - loss: 1.1843 - accuracy: 0.7419 - val_loss: 1.1665 - val_accuracy: 0.7400\n",
            "Epoch 4/10\n",
            "16/16 [==============================] - 1s 70ms/step - loss: 0.8471 - accuracy: 0.8117 - val_loss: 1.0402 - val_accuracy: 0.7790\n",
            "Epoch 5/10\n",
            "16/16 [==============================] - 1s 69ms/step - loss: 0.5654 - accuracy: 0.8705 - val_loss: 0.9874 - val_accuracy: 0.8010\n",
            "Epoch 6/10\n",
            "16/16 [==============================] - 1s 70ms/step - loss: 0.3788 - accuracy: 0.9180 - val_loss: 0.9851 - val_accuracy: 0.8070\n",
            "Epoch 7/10\n",
            "16/16 [==============================] - 1s 69ms/step - loss: 0.2462 - accuracy: 0.9453 - val_loss: 0.9995 - val_accuracy: 0.8190\n",
            "Epoch 8/10\n",
            "16/16 [==============================] - 1s 73ms/step - loss: 0.1794 - accuracy: 0.9559 - val_loss: 1.0371 - val_accuracy: 0.8100\n",
            "Epoch 9/10\n",
            "16/16 [==============================] - 1s 70ms/step - loss: 0.1543 - accuracy: 0.9580 - val_loss: 1.0251 - val_accuracy: 0.8170\n",
            "Epoch 00009: early stopping\n"
          ],
          "name": "stdout"
        }
      ]
    },
    {
      "cell_type": "code",
      "metadata": {
        "colab": {
          "base_uri": "https://localhost:8080/"
        },
        "id": "ju_VMHTaNpiE",
        "outputId": "160b0e74-fe0a-4129-acba-3f2e2afe0c1e"
      },
      "source": [
        "result = model_fix.evaluate(x_test,y_test)"
      ],
      "execution_count": 143,
      "outputs": [
        {
          "output_type": "stream",
          "text": [
            "71/71 [==============================] - 0s 4ms/step - loss: 1.1127 - accuracy: 0.7885\n"
          ],
          "name": "stdout"
        }
      ]
    },
    {
      "cell_type": "code",
      "metadata": {
        "colab": {
          "base_uri": "https://localhost:8080/"
        },
        "id": "IPOAm8KsQzt9",
        "outputId": "b5ebe821-5430-4f5a-a026-1703aca8010c"
      },
      "source": [
        "history_fix_dict = history_fix.history\n",
        "history_fix_dict.keys()"
      ],
      "execution_count": 150,
      "outputs": [
        {
          "output_type": "execute_result",
          "data": {
            "text/plain": [
              "dict_keys(['loss', 'accuracy', 'val_loss', 'val_accuracy'])"
            ]
          },
          "metadata": {
            "tags": []
          },
          "execution_count": 150
        }
      ]
    },
    {
      "cell_type": "code",
      "metadata": {
        "colab": {
          "base_uri": "https://localhost:8080/",
          "height": 295
        },
        "id": "qarOO1dnPqO6",
        "outputId": "08049a82-b0ca-4eb9-95db-46a4f2a7e9ab"
      },
      "source": [
        "plt.clf()\n",
        "acc_values = history_fix_dict['accuracy']\n",
        "val_acc_values = history_fix_dict['val_accuracy']\n",
        "epochs = range(1, (len(history_fix_dict['accuracy']) + 1))\n",
        "plt.plot(epochs, acc_values, 'bo', label='Training acc')\n",
        "plt.plot(epochs, val_acc_values, 'b', label='Validation acc')\n",
        "plt.title('Training and validation accuracy')\n",
        "plt.xlabel('Epochs')\n",
        "plt.ylabel('Accuracy')\n",
        "plt.legend()\n",
        "plt.show()"
      ],
      "execution_count": 151,
      "outputs": [
        {
          "output_type": "display_data",
          "data": {
            "image/png": "[encoded data removed]",
            "text/plain": [
              "<Figure size 432x288 with 1 Axes>"
            ]
          },
          "metadata": {
            "tags": [],
            "needs_background": "light"
          }
        }
      ]
    },
    {
      "cell_type": "code",
      "metadata": {
        "id": "uXaCPbcuRhM4"
      },
      "source": [
        "model_fix.save('icardemil_categorical_crossentropy.h5')"
      ],
      "execution_count": 153,
      "outputs": []
    },
    {
      "cell_type": "markdown",
      "metadata": {
        "id": "5IUd_52zZvtv"
      },
      "source": [
        "#Realizando predicciones"
      ]
    },
    {
      "cell_type": "code",
      "metadata": {
        "id": "EBZNfWWXZx_J"
      },
      "source": [
        "predictions = model_fix(x_test)"
      ],
      "execution_count": 156,
      "outputs": []
    },
    {
      "cell_type": "markdown",
      "metadata": {
        "id": "MTXdwjNHe-rT"
      },
      "source": [
        "##Obtener nombre topico"
      ]
    },
    {
      "cell_type": "code",
      "metadata": {
        "id": "08ckmF1xfC5p"
      },
      "source": [
        "def decodificar_topico(i):\n",
        "  return topicos[i]"
      ],
      "execution_count": 170,
      "outputs": []
    },
    {
      "cell_type": "markdown",
      "metadata": {
        "id": "IGjPkn-NaaEM"
      },
      "source": [
        "##Primeras 10 noticias"
      ]
    },
    {
      "cell_type": "code",
      "metadata": {
        "colab": {
          "base_uri": "https://localhost:8080/"
        },
        "id": "5FGiUOEUZ1ix",
        "outputId": "0a96531d-60b4-4e41-95a1-a1ab297aea7b"
      },
      "source": [
        "for i in range(10):\n",
        "  print(\"Clase predicha: \", decodificar_topico(np.argmax(predictions[i])))\n",
        "  print(\"Clase real: \", decodificar_topico(test_labels[i]))\n",
        "  print(\"Comentario: \")\n",
        "  print(decodificar_comentario(test_data[i]))\n",
        "  print()"
      ],
      "execution_count": 171,
      "outputs": [
        {
          "output_type": "stream",
          "text": [
            "Clase predicha:  earn\n",
            "Clase real:  earn\n",
            "Comentario: \n",
            "? the great atlantic and pacific tea co said its three year 345 mln dlr capital program will be be substantially increased to ? growth and expansion plans for ? inc and ? inc over the next two years a and p said the acquisition of ? in august 1986 and ? in december helped us achieve better than expected results in the fourth quarter ended february 28 its net income from continuing operations jumped 52 6 pct to 20 7 mln dlrs or 55 cts a share in the latest quarter as sales increased 48 3 pct to 1 58 billion dlrs a and p gave no details on the expanded capital program but it did say it completed the first year of the program during 1986 a and p is 52 4 pct owned by lt ? ? of west germany reuter 3\n",
            "\n",
            "Clase predicha:  sugar\n",
            "Clase real:  sugar\n",
            "Comentario: \n",
            "? philippine sugar production in the 1987 88 crop year ending august has been set at 1 6 mln tonnes up from a provisional 1 3 mln tonnes this year sugar regulatory administration ? chairman ? yulo said yulo told reuters a survey during the current milling season which ends next month showed the 1986 87 estimate would almost certainly be met he said at least 1 2 mln tonnes of the 1987 88 crop would be earmarked for domestic consumption yulo said about 130 000 tonnes would be set aside for the u s sugar quota 150 000 tonnes for strategic reserves and 50 000 tonnes would be sold on the world market he said if the government approved a long standing ? recommendation to manufacture ethanol the project would take up another 150 000 tonnes slightly raising the target the government for its own reasons has been delaying approval of the project but we expect it to come through by july yulo said ethanol could make up five pct of gasoline cutting the oil import bill by about 300 mln pesos yulo said three major philippine ? were ready to start manufacturing ethanol if the project was approved the ethanol project would result in employment for about 100 000 people sharply reducing those thrown out of work by depressed world sugar prices and a ? domestic industry production quotas set for the first time in 1987 88 had been submitted to president corazon aquino i think the president would rather wait ? the new congress ? after the may elections he said but there is really no need for such quotas we are right now producing just slightly over our own consumption level the producers have never enjoyed such high prices yulo said adding sugar was currently selling locally for 320 pesos per ? up from 190 pesos last august yulo said prices were driven up because of speculation following the ? bid to control production we are no longer concerned so much with the world market he said adding producers in the ? region had learned from their ? and diversified into corn and ? farming and ? production he said diversification into products other than ethanol was also possible within the sugar industry the ? long ago ? their ? yulo said they have 300 sugar mills compared with our 41 but they ? many of them and diversified production we want to call this a ? ? instead of the sugar industry he said sugarcane could be fed to pigs and livestock used for ? ? or used in room ? when you cut sugarcane you don't even have to produce sugar he said yulo said the philippines was lobbying for a renewal of the international sugar agreement which expired in 1984 as a major sugar producer we are urging them to write a new agreement which would revive world prices yulo said if there is no agreement world prices will always be depressed particularly because the european community is ? its producers and dumping sugar on the markets he said current world prices holding steady at about 7 60 cents per pound were ? for the philippines where production costs ranged from 12 to 14 cents a pound if the price holds steady for a while at 7 60 cents i expect the level to rise to about 11 cents a pound by the end of this year he said yulo said economists forecast a bullish sugar market by 1990 with world consumption ? production he said sugar markets were holding up despite ? from artificial sweeteners and high fructose corn syrup but we are not happy with the reagan administration he said since ? we have been regular suppliers of sugar to the u s in 1982 when they restored the quota system they cut ? in half without any justification manila was ? watching washington's moves to cut domestic support prices to 12 cents a pound from 18 cents the u s agriculture department last december slashed its 12 month 1987 sugar import quota from the philippines to 143 780 short tons from 231 660 short tons in 1986 yulo said despite next year's increased production target some philippine mills were expected to shut down at least four of the 41 mills were not working during the 1986 87 season he said we expect two or three more to follow suit during the next season reuter 3\n",
            "\n",
            "Clase predicha:  grain\n",
            "Clase real:  grain\n",
            "Comentario: \n",
            "? the agriculture department's widening of louisiana gulf differentials will affect county posted prices for number two yellow corn in ten states a usda official said all counties in iowa will be affected as will counties which use the gulf to price corn in illinois indiana tennessee kentucky missouri mississippi arkansas alabama and louisiana said ? ? deputy director of commodity operations division for the usda usda last night notified the grain industry that effective immediately all gulf differentials used to price interior corn would be widened on a sliding scale basis of four to eight cts depending on what the differential is usda's action was taken to lower excessively high posted county prices for corn caused by high gulf prices we've been following this louisiana gulf situation for a month and we don't think it's going to get back in line in any nearby time ? said ? said usda will probably narrow back the gulf differentials when and if gulf prices ? if we're off the mark now because we're too high wouldn't we be as much off the mark if we're too low he said while forecasting more adjustments if gulf prices fall ? said no other changes in usda's price system are being planned right now we don't tinker we don't make changes ? and we don't make changes often he said reuter 3\n",
            "\n",
            "Clase predicha:  crude\n",
            "Clase real:  acq\n",
            "Comentario: \n",
            "? ? ? oil and gas partnership said it completed the sale of interests in two major oil and gas fields to lt energy assets international corp for 21 mln dlrs the company said it sold about one half of its 50 pct interest in the oak hill and north ? fields its two largest producing properties it said it used about 20 mln dlrs of the proceeds to ? principal on its senior secured notes semi annual principal payments on the remaining 40 mln dlrs of notes have been satisfied until december 1988 as a result it said the company said the note agreements were amended to reflect an easing of some financial covenants and an increase of interest to 13 5 pct from 13 0 pct until december 1990 it said the ? exercise price for 1 125 000 warrants was also reduced to 50 cts from 1 50 dlrs the company said energy assets agreed to share the costs of increasing production at the oak hill field reuter 3\n",
            "\n",
            "Clase predicha:  ship\n",
            "Clase real:  acq\n",
            "Comentario: \n",
            "? strong south ? winds were keeping many vessels trapped in the ice off the finnish and swedish coasts in one of the worst icy periods in the baltic for many years the finnish board of navigation said in finland and sweden up to 50 vessels were reported to be stuck in the ice and even the largest of the ? ? were having difficulties in breaking through to the ? ships ? officials said however icy conditions in the southern baltic at the soviet oil ports of ? and ? had eased they said weather officials in neighbouring sweden said the icy conditions in the baltic were the worst for 30 years with ships fighting a losing battle to keep moving in the coastal stretches of the gulf of ? which ? finland and sweden the ice is up to one ? thick with ? and ? packing it into almost ? walls three metres high swedish ? officials said weather forecasts say winds may ease during the weekend but a further drop in temperature could bring shipping to a standstill the officials said reuter 3\n",
            "\n",
            "Clase predicha:  earn\n",
            "Clase real:  earn\n",
            "Comentario: \n",
            "? shr 12 cts vs 15 cts net 282 000 vs 360 000 revs 5 261 000 vs 5 348 000 avg shrs 2 336 000 vs 2 335 000 year shr 91 cts vs 1 04 dlrs net 2 149 000 vs 2 075 000 revs 28 2 mln vs 28 3 mln avg shrs 2 356 000 vs 2 001 000 note 1986 quarter net includes 72 000 dlr charge from ? of investment tax credit reuter 3\n",
            "\n",
            "Clase predicha:  earn\n",
            "Clase real:  earn\n",
            "Comentario: \n",
            "? combustion engineering inc said it expects first quarter earnings to be 20 to 25 pct below the year ago 13 6 mln dlrs mainly due to financing costs resulting from the january 1987 acquisition of ? corp the company said it has filed for an offering of four mln common shares and 150 mln dlrs of subordinated debentures due ? with proceeds to be used to refinance the short term bank debt incurred for the ? acquisition to finance other costs of the transaction and for general corporate purposes combustion said 3 500 000 shares will be sold in the u s and the remainder overseas combustion paid about 218 mln dlrs for ? a maker of computer based measurement and control systems used in pulp and paper mills the company said it expects to release first quarter results in the third week in april combustion said it expects further restructuring of core businesses particularly ? ? this year through staff reductions ? and the consolidation of facilities combustion said the restructuring at ? ? is expected to substantially reduce but not eliminate this year losses in the engineering and construction segment but it said improvement at ? ? is expected to be approximately offset by a number of factors including a somewhat lower level of earnings in the power generation segment than in 1986 financing costs of the ? acquisition costs associated with ? ? technology and operations and delays in waste to energy projects reuter 3\n",
            "\n",
            "Clase predicha:  earn\n",
            "Clase real:  earn\n",
            "Comentario: \n",
            "? shr 23 cts vs 28 cts net 8 877 000 vs 9 530 000 revs 342 mln vs 278 9 mln avg shrs 39 4 mln vs 34 mln year shr 1 91 dlrs vs 1 62 dlrs net 70 5 mln vs 50 5 mln revs 1 3 billion vs 990 5 mln avg shrs 37 mln vs 31 3 mln note on dec one 1986 company acquired holt ? and ? and w b saunders and the ? press and their foreign subsidiaries by including these companies for the single month of december 1986 4th qtr earnings were raised by seven cts per shr and for the year by eight cts per shr reuter 3\n",
            "\n",
            "Clase predicha:  earn\n",
            "Clase real:  earn\n",
            "Comentario: \n",
            "? oper shr profit 1 66 dlrs vs loss eight cts oper net profit 12 0 mln vs loss 572 000 revs 27 4 mln vs 4 311 000 year oper shr profit 1 36 dlrs vs loss 43 cts oper net profit 9 817 000 vs loss 2 433 000 revs 35 0 mln vs 13 8 mln avg shrs 7 224 000 vs 6 731 000 note 1985 net includes tax credits of 492 000 dlrs in quarter and 2 433 000 dlrs in year 1985 net both periods excludes 168 000 dlr loss from discontinued operations 1986 net both periods includes pretax gain 21 8 mln dlrs from sale of remaining interest in ? hills n m development reuter 3\n",
            "\n",
            "Clase predicha:  earn\n",
            "Clase real:  earn\n",
            "Comentario: \n",
            "? bankers trust new york corp said it has placed its approximately 540 mln dlrs of medium and long term loans to brazil on non accrual status and that first quarter net income will be reduced by about seven mln dlrs as a result brazil suspended interest payments on its 68 billion dlrs of medium and long term debt on february 22 u s banking regulations do not require banks to stop accruing interest on loans until payments are 90 days overdue but bankers trust said it acted now because of the high potential of a continued suspension that would result in reaching the 90 day limit in the second quarter of 1987 assuming no cash payments at current interest rates are received for the rest of 1987 bankers trust estimated that full year net income would be reduced by about 30 mln dlrs bankers trust said it assumes that debt negotiations between brazil and its commercial bank lenders will lead to the resumption of interest payments the negotiations resume in new york on friday when central bank governor francisco gros is expected to ask banks for a 90 day ? of some 9 5 billion dlrs of term debt that ? on april 15 reuter 3\n",
            "\n"
          ],
          "name": "stdout"
        }
      ]
    },
    {
      "cell_type": "markdown",
      "metadata": {
        "id": "O3zsSUhrgS0H"
      },
      "source": [
        "##Noticias de Chile"
      ]
    },
    {
      "cell_type": "code",
      "metadata": {
        "colab": {
          "base_uri": "https://localhost:8080/"
        },
        "id": "0QoJaJSSaTgr",
        "outputId": "5930a935-7163-42c6-85e5-296e25fa6065"
      },
      "source": [
        "for idx in noticias_chile_test:\n",
        "  print(\"Clase predicha: \", decodificar_topico(np.argmax(predictions[i])))\n",
        "  print(\"Clase real: \", decodificar_topico(test_labels[i]))\n",
        "  print(\"Comentario: \")\n",
        "  print(decodificar_comentario(test_data[i]))\n",
        "  print()"
      ],
      "execution_count": 172,
      "outputs": [
        {
          "output_type": "stream",
          "text": [
            "Clase predicha:  earn\n",
            "Clase real:  earn\n",
            "Comentario: \n",
            "? bankers trust new york corp said it has placed its approximately 540 mln dlrs of medium and long term loans to brazil on non accrual status and that first quarter net income will be reduced by about seven mln dlrs as a result brazil suspended interest payments on its 68 billion dlrs of medium and long term debt on february 22 u s banking regulations do not require banks to stop accruing interest on loans until payments are 90 days overdue but bankers trust said it acted now because of the high potential of a continued suspension that would result in reaching the 90 day limit in the second quarter of 1987 assuming no cash payments at current interest rates are received for the rest of 1987 bankers trust estimated that full year net income would be reduced by about 30 mln dlrs bankers trust said it assumes that debt negotiations between brazil and its commercial bank lenders will lead to the resumption of interest payments the negotiations resume in new york on friday when central bank governor francisco gros is expected to ask banks for a 90 day ? of some 9 5 billion dlrs of term debt that ? on april 15 reuter 3\n",
            "\n",
            "Clase predicha:  earn\n",
            "Clase real:  earn\n",
            "Comentario: \n",
            "? bankers trust new york corp said it has placed its approximately 540 mln dlrs of medium and long term loans to brazil on non accrual status and that first quarter net income will be reduced by about seven mln dlrs as a result brazil suspended interest payments on its 68 billion dlrs of medium and long term debt on february 22 u s banking regulations do not require banks to stop accruing interest on loans until payments are 90 days overdue but bankers trust said it acted now because of the high potential of a continued suspension that would result in reaching the 90 day limit in the second quarter of 1987 assuming no cash payments at current interest rates are received for the rest of 1987 bankers trust estimated that full year net income would be reduced by about 30 mln dlrs bankers trust said it assumes that debt negotiations between brazil and its commercial bank lenders will lead to the resumption of interest payments the negotiations resume in new york on friday when central bank governor francisco gros is expected to ask banks for a 90 day ? of some 9 5 billion dlrs of term debt that ? on april 15 reuter 3\n",
            "\n",
            "Clase predicha:  earn\n",
            "Clase real:  earn\n",
            "Comentario: \n",
            "? bankers trust new york corp said it has placed its approximately 540 mln dlrs of medium and long term loans to brazil on non accrual status and that first quarter net income will be reduced by about seven mln dlrs as a result brazil suspended interest payments on its 68 billion dlrs of medium and long term debt on february 22 u s banking regulations do not require banks to stop accruing interest on loans until payments are 90 days overdue but bankers trust said it acted now because of the high potential of a continued suspension that would result in reaching the 90 day limit in the second quarter of 1987 assuming no cash payments at current interest rates are received for the rest of 1987 bankers trust estimated that full year net income would be reduced by about 30 mln dlrs bankers trust said it assumes that debt negotiations between brazil and its commercial bank lenders will lead to the resumption of interest payments the negotiations resume in new york on friday when central bank governor francisco gros is expected to ask banks for a 90 day ? of some 9 5 billion dlrs of term debt that ? on april 15 reuter 3\n",
            "\n"
          ],
          "name": "stdout"
        }
      ]
    },
    {
      "cell_type": "markdown",
      "metadata": {
        "id": "4BnAOpLHbmqQ"
      },
      "source": [
        "##Cálculo del error"
      ]
    },
    {
      "cell_type": "code",
      "metadata": {
        "colab": {
          "base_uri": "https://localhost:8080/"
        },
        "id": "-xiOtbNqbpNn",
        "outputId": "3831bbe5-09ea-4961-8a2b-4b07741d0dac"
      },
      "source": [
        "suma = 0\n",
        "for i in range(len(predictions)):\n",
        "  suma += abs(np.argmax(predictions[i]) - test_labels[i])\n",
        "error = suma/len(predictions)\n",
        "print(\"El promedio del error entre lo predicho y lo real es:\", error)"
      ],
      "execution_count": 168,
      "outputs": [
        {
          "output_type": "stream",
          "text": [
            "El promedio del error entre lo predicho y lo real es: 2.1656277827248442\n"
          ],
          "name": "stdout"
        }
      ]
    }
  ]
}